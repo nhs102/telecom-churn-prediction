{
  "nbformat": 4,
  "nbformat_minor": 0,
  "metadata": {
    "colab": {
      "provenance": []
    },
    "kernelspec": {
      "name": "python3",
      "display_name": "Python 3"
    },
    "language_info": {
      "name": "python"
    }
  },
  "cells": [
    {
      "cell_type": "markdown",
      "source": [
        "Telecom Churn Prediction Model"
      ],
      "metadata": {
        "id": "k7clkRmK9mzz"
      }
    },
    {
      "cell_type": "code",
      "source": [
        "!pip install scikit-learn==1.5.2\n",
        "!pip install pandas scikit-learn xgboost imbalanced-learn matplotlib seaborn\n",
        "!pip install -r requirements.txt -q"
      ],
      "metadata": {
        "colab": {
          "base_uri": "https://localhost:8080/"
        },
        "id": "CuA4NINOQc_-",
        "outputId": "4b7a83af-4c18-477f-abc3-c27f63e550f3"
      },
      "execution_count": 5,
      "outputs": [
        {
          "output_type": "stream",
          "name": "stdout",
          "text": [
            "Requirement already satisfied: scikit-learn==1.5.2 in /usr/local/lib/python3.11/dist-packages (1.5.2)\n",
            "Requirement already satisfied: numpy>=1.19.5 in /usr/local/lib/python3.11/dist-packages (from scikit-learn==1.5.2) (2.0.2)\n",
            "Requirement already satisfied: scipy>=1.6.0 in /usr/local/lib/python3.11/dist-packages (from scikit-learn==1.5.2) (1.15.3)\n",
            "Requirement already satisfied: joblib>=1.2.0 in /usr/local/lib/python3.11/dist-packages (from scikit-learn==1.5.2) (1.5.0)\n",
            "Requirement already satisfied: threadpoolctl>=3.1.0 in /usr/local/lib/python3.11/dist-packages (from scikit-learn==1.5.2) (3.6.0)\n",
            "Requirement already satisfied: pandas in /usr/local/lib/python3.11/dist-packages (2.2.2)\n",
            "Requirement already satisfied: scikit-learn in /usr/local/lib/python3.11/dist-packages (1.5.2)\n",
            "Requirement already satisfied: xgboost in /usr/local/lib/python3.11/dist-packages (2.1.4)\n",
            "Requirement already satisfied: imbalanced-learn in /usr/local/lib/python3.11/dist-packages (0.13.0)\n",
            "Requirement already satisfied: matplotlib in /usr/local/lib/python3.11/dist-packages (3.10.0)\n",
            "Requirement already satisfied: seaborn in /usr/local/lib/python3.11/dist-packages (0.13.2)\n",
            "Requirement already satisfied: numpy>=1.23.2 in /usr/local/lib/python3.11/dist-packages (from pandas) (2.0.2)\n",
            "Requirement already satisfied: python-dateutil>=2.8.2 in /usr/local/lib/python3.11/dist-packages (from pandas) (2.9.0.post0)\n",
            "Requirement already satisfied: pytz>=2020.1 in /usr/local/lib/python3.11/dist-packages (from pandas) (2025.2)\n",
            "Requirement already satisfied: tzdata>=2022.7 in /usr/local/lib/python3.11/dist-packages (from pandas) (2025.2)\n",
            "Requirement already satisfied: scipy>=1.6.0 in /usr/local/lib/python3.11/dist-packages (from scikit-learn) (1.15.3)\n",
            "Requirement already satisfied: joblib>=1.2.0 in /usr/local/lib/python3.11/dist-packages (from scikit-learn) (1.5.0)\n",
            "Requirement already satisfied: threadpoolctl>=3.1.0 in /usr/local/lib/python3.11/dist-packages (from scikit-learn) (3.6.0)\n",
            "Requirement already satisfied: nvidia-nccl-cu12 in /usr/local/lib/python3.11/dist-packages (from xgboost) (2.21.5)\n",
            "Requirement already satisfied: sklearn-compat<1,>=0.1 in /usr/local/lib/python3.11/dist-packages (from imbalanced-learn) (0.1.3)\n",
            "Requirement already satisfied: contourpy>=1.0.1 in /usr/local/lib/python3.11/dist-packages (from matplotlib) (1.3.2)\n",
            "Requirement already satisfied: cycler>=0.10 in /usr/local/lib/python3.11/dist-packages (from matplotlib) (0.12.1)\n",
            "Requirement already satisfied: fonttools>=4.22.0 in /usr/local/lib/python3.11/dist-packages (from matplotlib) (4.58.0)\n",
            "Requirement already satisfied: kiwisolver>=1.3.1 in /usr/local/lib/python3.11/dist-packages (from matplotlib) (1.4.8)\n",
            "Requirement already satisfied: packaging>=20.0 in /usr/local/lib/python3.11/dist-packages (from matplotlib) (24.2)\n",
            "Requirement already satisfied: pillow>=8 in /usr/local/lib/python3.11/dist-packages (from matplotlib) (11.2.1)\n",
            "Requirement already satisfied: pyparsing>=2.3.1 in /usr/local/lib/python3.11/dist-packages (from matplotlib) (3.2.3)\n",
            "Requirement already satisfied: six>=1.5 in /usr/local/lib/python3.11/dist-packages (from python-dateutil>=2.8.2->pandas) (1.17.0)\n"
          ]
        }
      ]
    },
    {
      "cell_type": "code",
      "source": [
        "import pandas as pd\n",
        "import xgboost as xgb\n",
        "from sklearn.model_selection import train_test_split, GridSearchCV\n",
        "from sklearn.preprocessing import StandardScaler\n",
        "from sklearn.metrics import accuracy_score, precision_score, recall_score, f1_score, roc_auc_score, confusion_matrix\n",
        "from imblearn.over_sampling import SMOTE\n",
        "import numpy as np\n",
        "import matplotlib.pyplot as plt\n",
        "import seaborn as sns\n",
        "import joblib"
      ],
      "metadata": {
        "id": "Zl5GPdqL9kTG"
      },
      "execution_count": 6,
      "outputs": []
    },
    {
      "cell_type": "markdown",
      "source": [
        "## 1. Load the data and Explore the data\n",
        "\n",
        "This section focuses on loading the telecom customer churn dataset and gaining an initial understanding of its structure and characteristics.\n",
        "\n",
        "### Data Overview\n",
        "- **Number of Samples** 2666\n",
        "- **Number of Features** 20\n",
        "- **Target Variable** 'Churn' (True/False indicating churn)\n"
      ],
      "metadata": {
        "id": "4eokDAfzZu2i"
      }
    },
    {
      "cell_type": "code",
      "execution_count": 7,
      "metadata": {
        "id": "6XAyTG4I9i3b"
      },
      "outputs": [],
      "source": [
        "df = pd.read_csv('/content/churn-bigml-80.csv')"
      ]
    },
    {
      "cell_type": "markdown",
      "source": [
        "## 2. Data Preprocessing\n",
        "\n",
        "This phase prepares the data for model training. It includes handling missing values, encoding categorical features, scaling numerical features, and addressing class imbalance.\n",
        "\n",
        "### 2.1. Dropping Irrelevant Columns\n",
        "The `Phone` column acts as a unique identifier for each customer and does not contribute directly to churn prediction. Therefore, it is removed from the dataset."
      ],
      "metadata": {
        "id": "__-zGGRhajxz"
      }
    },
    {
      "cell_type": "code",
      "source": [
        "# delete the phone column\n",
        "# This column is not needed for our prediction model\n",
        "\n",
        "if \"Phone\" in df.columns:\n",
        "    df.drop(\"Phone\", axis=1, inplace=True)\n",
        "    print(\"Phone column deleted successfully.\")\n",
        "else:\n",
        "    print(\"Phone column not found in the DataFrame.\")\n",
        "\n",
        "\n",
        "# Transform the \"Churn\" column True/False to 1/0 (Target Variable)\n",
        "\n",
        "df['Churn'] = df['Churn'].astype(int)"
      ],
      "metadata": {
        "colab": {
          "base_uri": "https://localhost:8080/"
        },
        "id": "ACtE7D6F-19E",
        "outputId": "3019b251-4cae-4ede-9408-42d4a4a9e171"
      },
      "execution_count": 8,
      "outputs": [
        {
          "output_type": "stream",
          "name": "stdout",
          "text": [
            "Phone column not found in the DataFrame.\n"
          ]
        }
      ]
    },
    {
      "cell_type": "markdown",
      "source": [
        "### 2.2. One-Hot Encoding for Categorical Features\n",
        "Categorical features like `State`, `Area code`, `International plan`, and `Voice mail plan` cannot be directly processed by most machine learning models. They are transformed into numerical features using One-Hot Encoding. The `drop_first=True` option is used to avoid multicollinearity and reduce the number of generated columns."
      ],
      "metadata": {
        "id": "CdlQ2qGya1Fv"
      }
    },
    {
      "cell_type": "code",
      "source": [
        "# One-hot-incoding\n",
        "\n",
        "categorical_columns = ['State', 'Area code', 'International plan', 'Voice mail plan']\n",
        "\n",
        "df_encoded = pd.get_dummies(df, columns=categorical_columns, drop_first=True)"
      ],
      "metadata": {
        "id": "7OCFrKbEHwFQ"
      },
      "execution_count": 9,
      "outputs": []
    },
    {
      "cell_type": "markdown",
      "source": [
        "### 2.3. Numerical Feature Scaling\n",
        "Numerical features often have different scales (e.g., `Total day minutes` vs. `Customer service calls`). Using `StandardScaler`, these features are standardized to have a mean of 0 and a standard deviation of 1. This prevents features with larger numerical ranges from disproportionately influencing the model."
      ],
      "metadata": {
        "id": "f1fDUdqJa7Vk"
      }
    },
    {
      "cell_type": "code",
      "source": [
        "# Selecting Numeric Columns\n",
        "\n",
        "numeric_columns = df_encoded.select_dtypes(include=['int64', 'float64']).columns.tolist()\n",
        "if 'Churn' in numeric_columns:\n",
        "    numeric_columns.remove('Churn') # Excluding the Target\n",
        "\n",
        "\n",
        "# StadardScaler\n",
        "\n",
        "scaler = StandardScaler()\n",
        "\n",
        "df_scaled = df_encoded.copy()\n",
        "df_scaled[numeric_columns] = scaler.fit_transform(df_encoded[numeric_columns])"
      ],
      "metadata": {
        "id": "nEOLLkHOIHV_"
      },
      "execution_count": 10,
      "outputs": []
    },
    {
      "cell_type": "markdown",
      "source": [
        "### 2.4. Handling Class Imbalance (SMOTE)\n",
        "The `Churn` class (customers who churned) represents a minority class, constituting approximately 14.6% of the dataset. To prevent the model from being biased towards the majority class (non-churners), `SMOTE` (Synthetic Minority Over-sampling Technique) is applied to the training data. This technique generates synthetic samples for the minority class, balancing the dataset for more effective model learning."
      ],
      "metadata": {
        "id": "WZLGQvf7JB5-"
      }
    },
    {
      "cell_type": "code",
      "source": [
        "from re import X\n",
        "x = df_scaled.drop('Churn', axis=1)\n",
        "y = df_scaled['Churn']\n",
        "\n",
        "X_train, X_test, y_train, y_test = train_test_split(x, y, test_size=0.2, random_state=42, stratify=y)\n",
        "\n",
        "print(\"Ratio of Churn in the original data train set\")\n",
        "print(y_train.value_counts(normalize=True))\n",
        "\n",
        "\n",
        "# SMOTE (Oversampling the data)\n",
        "smote = SMOTE(random_state=42)\n",
        "X_resampled, y_resampled = smote.fit_resample(X_train, y_train)\n",
        "\n",
        "print(\"Ratio of Churn in the resampled data train set\")\n",
        "print(y_resampled.value_counts(normalize=True))\n",
        "\n"
      ],
      "metadata": {
        "colab": {
          "base_uri": "https://localhost:8080/"
        },
        "id": "UDAg9sEgJAPb",
        "outputId": "ba209c11-a884-4839-a63f-864f52d21c94"
      },
      "execution_count": 11,
      "outputs": [
        {
          "output_type": "stream",
          "name": "stdout",
          "text": [
            "Ratio of Churn in the original data train set\n",
            "Churn\n",
            "0    0.854597\n",
            "1    0.145403\n",
            "Name: proportion, dtype: float64\n",
            "Ratio of Churn in the resampled data train set\n",
            "Churn\n",
            "0    0.5\n",
            "1    0.5\n",
            "Name: proportion, dtype: float64\n"
          ]
        }
      ]
    },
    {
      "cell_type": "markdown",
      "source": [
        "## 3. Model Training (XGBoost)\n",
        "\n",
        "We employ the powerful `XGBoost` classifier for predicting customer churn. XGBoost is an ensemble learning method that sequentially builds multiple weak decision trees, with each new tree correcting the errors of the preceding ones."
      ],
      "metadata": {
        "id": "nUKOTbrMJ0uU"
      }
    },
    {
      "cell_type": "code",
      "source": [
        "model = xgb.XGBClassifier(\n",
        "    objective='binary:logistic',\n",
        "    eval_metric='logloss',\n",
        "    use_label_encoder=False,\n",
        "    random_state=42\n",
        ")\n",
        "\n"
      ],
      "metadata": {
        "colab": {
          "base_uri": "https://localhost:8080/"
        },
        "id": "sl1AEC7EJ5uT",
        "outputId": "fe5d1a99-651b-492a-a4bb-2b532a2cff47"
      },
      "execution_count": 12,
      "outputs": [
        {
          "output_type": "stream",
          "name": "stdout",
          "text": [
            "GridSearchCV Train Start...\n",
            "Fitting 3 folds for each of 243 candidates, totalling 729 fits\n"
          ]
        },
        {
          "output_type": "stream",
          "name": "stderr",
          "text": [
            "/usr/local/lib/python3.11/dist-packages/xgboost/core.py:158: UserWarning: [10:06:21] WARNING: /workspace/src/learner.cc:740: \n",
            "Parameters: { \"use_label_encoder\" } are not used.\n",
            "\n",
            "  warnings.warn(smsg, UserWarning)\n"
          ]
        },
        {
          "output_type": "stream",
          "name": "stdout",
          "text": [
            "GridSearchCV Train Finish...\n"
          ]
        }
      ]
    },
    {
      "cell_type": "markdown",
      "source": [
        "### 3.1. Hyperparameter Tuning with GridSearchCV\n",
        "To optimize the model's performance, `GridSearchCV` is used to systematically search for the best combination of `XGBoost` hyperparameters, such as `n_estimators`, `learning_rate`, and `max_depth`. The `ROC-AUC` score, which is robust for imbalanced datasets, is used as the primary metric for selecting the best model."
      ],
      "metadata": {
        "id": "1OFKKCtWbNSB"
      }
    },
    {
      "cell_type": "code",
      "source": [
        "# Grid Search\n",
        "\n",
        "param_grid = {\n",
        "    'n_estimators': [100, 200, 300],\n",
        "    'max_depth': [3, 4, 5],\n",
        "    'learning_rate': [0.05, 0.1, 0.2],\n",
        "    'subsample': [0.8, 0.9, 1.0],\n",
        "    'colsample_bytree': [0.8, 0.9, 1.0],\n",
        "}\n",
        "\n",
        "grid_search = GridSearchCV(\n",
        "    estimator=model,\n",
        "    param_grid=param_grid,\n",
        "    scoring = 'roc_auc',\n",
        "    cv=3,\n",
        "    n_jobs=-1,\n",
        "    verbose=1\n",
        ")\n",
        "\n",
        "# Train GridSearchCV\n",
        "\n",
        "print(\"GridSearchCV Train Start...\")\n",
        "grid_search.fit(X_resampled, y_resampled)\n",
        "print(\"GridSearchCV Train Finish...\")\n"
      ],
      "metadata": {
        "id": "YlKS6mkRbOBQ"
      },
      "execution_count": null,
      "outputs": []
    },
    {
      "cell_type": "markdown",
      "source": [
        "## 4. Model Evaluation and Interpretation\n",
        "This section evaluates the model's performance on unseen data and analyzes which features have the most significant impact on customer churn."
      ],
      "metadata": {
        "id": "UswiFdSZbalH"
      }
    },
    {
      "cell_type": "code",
      "source": [
        "# Choose the best model\n",
        "\n",
        "best_model = grid_search.best_estimator_\n",
        "print(\"=\"*50)\n",
        "\n",
        "# Best Parameter\n",
        "\n",
        "print(\"\\nBest Parameter\")\n",
        "print(grid_search.best_params_)\n",
        "\n",
        "# Best Score\n",
        "\n",
        "print(\"\\nBest Score\")\n",
        "print(grid_search.best_score_)\n",
        "print(\"=\"*50)\n",
        "\n",
        "\n",
        "\n",
        "\n",
        "print(\"\\nXGBoost Model Train Start...\")\n",
        "model.fit(X_resampled, y_resampled)\n",
        "print(\"XGBoost Model Train Finish...\")\n",
        "\n",
        "# Prediction for the test set\n",
        "\n",
        "y_pred_proba = model.predict_proba(X_test)[:, 1]\n",
        "y_pred = model.predict(X_test)\n",
        "\n",
        "print(\"\\nModel Prediction (%)\")\n",
        "print(y_pred_proba[:10])\n",
        "print(\"\\nModel Prediction (Class)\")\n",
        "print(y_pred[:10])"
      ],
      "metadata": {
        "colab": {
          "base_uri": "https://localhost:8080/"
        },
        "id": "WDR_bGEISfXi",
        "outputId": "2ff1eaff-9e9e-4b24-fc92-eefe711bdc1a"
      },
      "execution_count": 13,
      "outputs": [
        {
          "output_type": "stream",
          "name": "stdout",
          "text": [
            "==================================================\n",
            "\n",
            "Best Parameter\n",
            "{'colsample_bytree': 0.8, 'learning_rate': 0.1, 'max_depth': 5, 'n_estimators': 300, 'subsample': 0.8}\n",
            "\n",
            "Best Score\n",
            "0.994499552664886\n",
            "==================================================\n",
            "\n",
            "XGBoost Model Train Start...\n"
          ]
        },
        {
          "output_type": "stream",
          "name": "stderr",
          "text": [
            "/usr/local/lib/python3.11/dist-packages/xgboost/core.py:158: UserWarning: [10:06:22] WARNING: /workspace/src/learner.cc:740: \n",
            "Parameters: { \"use_label_encoder\" } are not used.\n",
            "\n",
            "  warnings.warn(smsg, UserWarning)\n"
          ]
        },
        {
          "output_type": "stream",
          "name": "stdout",
          "text": [
            "XGBoost Model Train Finish...\n",
            "\n",
            "Model Prediction (%)\n",
            "[0.00496443 0.04394048 0.00131709 0.00306608 0.00087725 0.00747422\n",
            " 0.0070281  0.01279601 0.01540419 0.00229032]\n",
            "\n",
            "Model Prediction (Class)\n",
            "[0 0 0 0 0 0 0 0 0 0]\n"
          ]
        }
      ]
    },
    {
      "cell_type": "markdown",
      "source": [
        "### 4.1 Feature Importance Analysis\n",
        "We analyze the `feature_importances` attribute of the `XGBoost` model to understand the relative contribution of each feature to churn prediction. This analysis helps in understanding the underlying causes of churn from a business perspective, informing targeted retention strategies."
      ],
      "metadata": {
        "id": "3Npfa915bm9G"
      }
    },
    {
      "cell_type": "code",
      "source": [
        "# Feature Importance\n",
        "\n",
        "feature_importance = model.feature_importances_\n",
        "feature_names = X_train.columns\n",
        "\n",
        "importance_df = pd.DataFrame({\n",
        "    f\"Feature\": feature_names,\n",
        "    f\"Importance\": feature_importance\n",
        "})\n",
        "\n",
        "importance_df = importance_df.sort_values(by='Importance', ascending=False)\n",
        "\n",
        "# top 10 importances\n",
        "\n",
        "print(\"\\n Top10 Feature Importance\")\n",
        "print(importance_df.head(10))\n",
        "\n",
        "# Visualize the importances\n",
        "\n",
        "plt.figure(figsize=(10, 7))\n",
        "sns.barplot(x='Importance', y='Feature', data=importance_df.head(10))\n",
        "plt.title('Top 10 Feature Importance')\n",
        "plt.xlabel('Importance')\n",
        "plt.ylabel('Feature')\n",
        "plt.tight_layout()\n",
        "plt.show()"
      ],
      "metadata": {
        "colab": {
          "base_uri": "https://localhost:8080/",
          "height": 933
        },
        "id": "LomQbH9zTNGB",
        "outputId": "38f0ca2d-a7bf-4f86-feac-f87d86766f8f"
      },
      "execution_count": 14,
      "outputs": [
        {
          "output_type": "stream",
          "name": "stdout",
          "text": [
            "\n",
            " Top10 Feature Importance\n",
            "                   Feature  Importance\n",
            "67  International plan_Yes    0.148349\n",
            "14  Customer service calls    0.058425\n",
            "2        Total day minutes    0.048906\n",
            "7         Total eve charge    0.042591\n",
            "40                State_MT    0.038839\n",
            "1    Number vmail messages    0.038816\n",
            "57                State_TX    0.037385\n",
            "49                State_OH    0.036405\n",
            "21                State_DC    0.033735\n",
            "24                State_GA    0.033097\n"
          ]
        },
        {
          "output_type": "display_data",
          "data": {
            "text/plain": [
              "<Figure size 1000x700 with 1 Axes>"
            ],
            "image/png": "[encoded data removed]"
          },
          "metadata": {}
        }
      ]
    },
    {
      "cell_type": "markdown",
      "source": [
        "### 4.2 Performance Metrics\n",
        "Considering the imbalanced nature of the dataset, we use a comprehensive set of evaluation metrics beyond simple accuracy:\n",
        "\n",
        "- **Accuracy**: Overall correctness of predictions.\n",
        "\n",
        "- **Precision**: The proportion of correctly predicted positive observations out of all positive predictions.\n",
        "\n",
        "- **Recall** (Sensitivity): The proportion of correctly predicted positive observations out of all actual positive observations. (Crucial for churn prediction, as missing actual churners can be costly.)\n",
        "\n",
        "- **F1-Score**: The harmonic mean of Precision and Recall, providing a balance between the two.\n",
        "\n",
        "- **ROC-AUC**: Measures the model's ability to distinguish between churners and non-churners across various threshold settings.\n",
        "\n",
        "- **Confusion Matrix**: Provides a detailed breakdown of correct and incorrect predictions (True Positives, True Negatives, False Positives, False Negatives)."
      ],
      "metadata": {
        "id": "str-r8bXLsob"
      }
    },
    {
      "cell_type": "code",
      "source": [
        "print(\"\\nModel Performance\")\n",
        "\n",
        "\n",
        "# Accuracy\n",
        "\n",
        "accuracy = accuracy_score(y_test, y_pred)\n",
        "print(f\"Accuracy:, {accuracy:.4f}\")\n",
        "\n",
        "# Precision\n",
        "\n",
        "precision = precision_score(y_test, y_pred)\n",
        "print(f\"Precision:, {precision:.4f}\")\n",
        "\n",
        "# Recall\n",
        "\n",
        "recall = recall_score(y_test, y_pred)\n",
        "print(f\"Recall:, {recall:.4f}\")\n",
        "\n",
        "# F1 score\n",
        "\n",
        "f1 = f1_score(y_test, y_pred)\n",
        "print(f\"F1 Score:, {f1:.4f}\")\n",
        "\n",
        "# ROC-AUC\n",
        "\n",
        "roc_auc = roc_auc_score(y_test, y_pred_proba)\n",
        "print(f\"ROC-AUC:, {roc_auc:.4f}\")\n",
        "\n",
        "# Confusion Matrix\n",
        "\n",
        "conf_matrix = confusion_matrix(y_test, y_pred)\n",
        "print(\"Confusion Matrix:\")\n",
        "print(conf_matrix)\n",
        "\n",
        "# Visualizing the Confusion Matrix\n",
        "\n",
        "plt.figure(figsize=(6, 4))\n",
        "sns.heatmap(conf_matrix, annot=True, fmt='d', cmap='Blues',\n",
        "            xticklabels=['No Churn (0)', 'Churn (1)'],\n",
        "            yticklabels=['No Churn (0)', 'Churn (1)'])\n",
        "plt.xlabel('Predicted')\n",
        "plt.ylabel('Actual')\n",
        "plt.title('Confusion Matrix')\n",
        "plt.show()"
      ],
      "metadata": {
        "colab": {
          "base_uri": "https://localhost:8080/",
          "height": 584
        },
        "id": "t14gRdTFLsGx",
        "outputId": "44c22785-fdd9-4775-b9b1-ce9bdc7d7657"
      },
      "execution_count": 15,
      "outputs": [
        {
          "output_type": "stream",
          "name": "stdout",
          "text": [
            "\n",
            "Model Performance\n",
            "Accuracy:, 0.9438\n",
            "Precision:, 0.9000\n",
            "Recall:, 0.6923\n",
            "F1 Score:, 0.7826\n",
            "ROC-AUC:, 0.8541\n",
            "Confusion Matrix:\n",
            "[[450   6]\n",
            " [ 24  54]]\n"
          ]
        },
        {
          "output_type": "display_data",
          "data": {
            "text/plain": [
              "<Figure size 600x400 with 2 Axes>"
            ],
            "image/png": "[encoded data removed]"
          },
          "metadata": {}
        }
      ]
    },
    {
      "cell_type": "code",
      "source": [
        "# Actual Churn and Predicted Churn\n",
        "\n",
        "true_churn = np.sum(y_test)\n",
        "predicted_churn = np.sum(y_pred)\n",
        "correctly_predicted_churn = np.sum(np.logical_and(y_test == 1, y_pred == 1))\n",
        "\n",
        "print(\"Actual Churn:\", true_churn)\n",
        "print(\"Predicted Churn:\", predicted_churn)\n",
        "print(\"Correctly Predicted Churn:\", correctly_predicted_churn)"
      ],
      "metadata": {
        "colab": {
          "base_uri": "https://localhost:8080/"
        },
        "id": "ZNIWxI9iMieR",
        "outputId": "4c43e642-bd3c-48e6-ed10-9669c82d7c59"
      },
      "execution_count": 16,
      "outputs": [
        {
          "output_type": "stream",
          "name": "stdout",
          "text": [
            "Actual Churn: 78\n",
            "Predicted Churn: 60\n",
            "Correctly Predicted Churn: 54\n"
          ]
        }
      ]
    },
    {
      "cell_type": "markdown",
      "source": [
        "## 5. Model Saving and Loading\n",
        "\n",
        "After successfully training and optimizing a machine learning model, it's crucial to save it to disk. This allows for several key benefits:\n",
        "\n",
        "-   **Efficiency:** You don't need to retrain the model every time you want to use it. Training can be computationally intensive and time-consuming, especially for large datasets or complex models.\n",
        "-   **Deployment:** Saved models can be easily loaded into production environments (e.g., a web application, an API service) to make real-time predictions on new, unseen data.\n",
        "-   **Reproducibility:** Saving the exact model state (after tuning) ensures that the same model can be used consistently for future predictions or further analysis, aiding reproducibility.\n",
        "\n",
        "Conversely, loading a saved model enables you to instantly reuse the trained model without re-running the entire training pipeline.\n",
        "\n",
        "### 5.1. Saving the Trained Model\n",
        "We use the `joblib` library (recommended for Scikit-learn and XGBoost models due to its efficiency with NumPy arrays) to save the `best_model` obtained from `GridSearchCV`."
      ],
      "metadata": {
        "id": "vwSjnpR2cuz3"
      }
    },
    {
      "cell_type": "code",
      "source": [
        "# Save the Model\n",
        "\n",
        "print(\"\\n### Model Save ###\")\n",
        "# Model name and path\n",
        "model_filename = 'xgboost_churn_model.joblib'\n",
        "\n",
        "# Save best_model as joblib\n",
        "joblib.dump(best_model, model_filename)\n",
        "print(f\" '{model_filename}' is successfully saved.\")\n",
        "\n",
        "# --- load the save model ---\n",
        "print(\"\\n### Load the save model and check ###\")\n",
        "loaded_model = joblib.load(model_filename)\n",
        "print(f\" '{model_filename}' is successfully loaded\")\n",
        "\n",
        "# Test\n",
        "sample_prediction = loaded_model.predict(X_test.head(5))\n",
        "print(f\"\\nPrediction with the loaded model: {sample_prediction}\")\n",
        "\n",
        "# Check\n",
        "original_prediction = best_model.predict(X_test.head(5))\n",
        "print(f\"Prediction with the original model: {original_prediction}\")\n",
        "\n",
        "if (sample_prediction == original_prediction).all():\n",
        "    print(\"Predictions between the original and loaded model are the same. Successfully loaded!\")\n",
        "else:\n",
        "    print(\"Warnung: Predictions are different.\")\n",
        "\n",
        "print(\"=\"*50)"
      ],
      "metadata": {
        "colab": {
          "base_uri": "https://localhost:8080/"
        },
        "id": "fmgYmZm1Yp0H",
        "outputId": "9d55cae4-cf91-4b9d-a98f-398991547b98"
      },
      "execution_count": 17,
      "outputs": [
        {
          "output_type": "stream",
          "name": "stdout",
          "text": [
            "\n",
            "### Model Save ###\n",
            " 'xgboost_churn_model.joblib' is successfully saved.\n",
            "\n",
            "### Load the save model and check ###\n",
            " 'xgboost_churn_model.joblib' is successfully loaded\n",
            "\n",
            "Prediction with the loaded model: [0 0 0 0 0]\n",
            "Prediction with the original model: [0 0 0 0 0]\n",
            "Predictions between the original and loaded model are the same. Successfully loaded!\n",
            "==================================================\n"
          ]
        }
      ]
    }
  ]
}